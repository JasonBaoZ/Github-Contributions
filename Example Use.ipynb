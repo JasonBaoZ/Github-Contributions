{
 "cells": [
  {
   "cell_type": "code",
   "execution_count": 1,
   "metadata": {},
   "outputs": [],
   "source": [
    "from functions import get_total_lines, get_total_lines_with_breakdown, graph_lines_written"
   ]
  },
  {
   "cell_type": "code",
   "execution_count": 2,
   "metadata": {
    "collapsed": true
   },
   "outputs": [],
   "source": [
    "SAMPLE_USER_ID = \"JasonBaoZ\""
   ]
  },
  {
   "cell_type": "code",
   "execution_count": null,
   "metadata": {},
   "outputs": [
    {
     "name": "stdout",
     "output_type": "stream",
     "text": [
      "Lines of code in past year: 1628\n"
     ]
    }
   ],
   "source": [
    "# API only\n",
    "print \"Lines of code in past year:\", get_total_lines(SAMPLE_USER_ID)"
   ]
  },
  {
   "cell_type": "code",
   "execution_count": null,
   "metadata": {},
   "outputs": [
    {
     "name": "stdout",
     "output_type": "stream",
     "text": [
      "0% repositories done\n"
     ]
    }
   ],
   "source": [
    "# With scraping\n",
    "total_adds, total_deletes = get_total_lines_with_breakdown(SAMPLE_USER_ID)\n",
    "print \"Deletes and adds in past year:\", total_adds, total_deletes"
   ]
  },
  {
   "cell_type": "code",
   "execution_count": null,
   "metadata": {
    "collapsed": true
   },
   "outputs": [],
   "source": [
    "graph_lines_written(total_adds, \"Total adds for the past year\")\n",
    "graph_lines_written(total_deletes, \"Total deletes for the past year\")"
   ]
  }
 ],
 "metadata": {
  "kernelspec": {
   "display_name": "Python 2",
   "language": "python",
   "name": "python2"
  },
  "language_info": {
   "codemirror_mode": {
    "name": "ipython",
    "version": 2
   },
   "file_extension": ".py",
   "mimetype": "text/x-python",
   "name": "python",
   "nbconvert_exporter": "python",
   "pygments_lexer": "ipython2",
   "version": "2.7.13"
  }
 },
 "nbformat": 4,
 "nbformat_minor": 2
}
